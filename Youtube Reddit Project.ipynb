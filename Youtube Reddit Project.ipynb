{
 "cells": [
  {
   "cell_type": "code",
   "execution_count": 61,
   "id": "f3a54157",
   "metadata": {},
   "outputs": [],
   "source": [
    "import praw\n",
    "import random\n",
    "from praw.models import MoreComments\n",
    "from bs4 import BeautifulSoup\n",
    "from markdown import markdown\n",
    "from google.cloud import texttospeech\n",
    "import os\n",
    "from selenium import webdriver\n",
    "from selenium.webdriver.common.by import By\n",
    "from selenium.webdriver.chrome.options import Options\n",
    "from moviepy.editor import *\n",
    "from mutagen.mp3 import MP3\n",
    "import time"
   ]
  },
  {
   "cell_type": "code",
   "execution_count": 38,
   "id": "6e146104",
   "metadata": {},
   "outputs": [
    {
     "name": "stdout",
     "output_type": "stream",
     "text": [
      "amaz_ingPerson\n"
     ]
    }
   ],
   "source": [
    "reddit = praw.Reddit(\n",
    "    client_id=\"zkUPC3t9gt5z0k9zIq1_5Q\",\n",
    "    client_secret=\"g02-Fk_OK98vTkFK6pgz7nnI1kyA0w\",\n",
    "    password=\"password\",\n",
    "    user_agent=\"testscript\",\n",
    "    username=\"amaz_ingPerson\",\n",
    ")\n",
    "print(reddit.user.me())"
   ]
  },
  {
   "cell_type": "code",
   "execution_count": 39,
   "id": "3fcd3946",
   "metadata": {},
   "outputs": [
    {
     "name": "stdout",
     "output_type": "stream",
     "text": [
      "['https://www.reddit.com/r/AskReddit/comments/w3gg0w/whats_a_funny_memory_you_have_that_if_you_told/', 'https://www.reddit.com/r/AskReddit/comments/w35ocq/whats_a_fun_fact_that_nobody_asked_for/', 'https://www.reddit.com/r/AskReddit/comments/w330mh/what_can_someone_put_on_their_car_that_makes_you/', 'https://www.reddit.com/r/AskReddit/comments/w3e1qc/what_would_be_the_most_terrifying_message_we_can/', 'https://www.reddit.com/r/AskReddit/comments/w36uts/youve_just_walked_in_on_your_wife_cheating_on_you/', 'https://www.reddit.com/r/AskReddit/comments/w3mair/what_is_a_wholesome_animal_fact_you_know/', 'https://www.reddit.com/r/AskReddit/comments/w3aerk/what_is_moral_yet_illegal/', 'https://www.reddit.com/r/AskReddit/comments/w311h6/in_your_humble_opinion_what_tv_series_has_the/', 'https://www.reddit.com/r/AskReddit/comments/w3ljgp/john_wick_has_a_guy_for_his_guns_a_guy_for_his/', 'https://www.reddit.com/r/AskReddit/comments/w3gpmr/what_is_something_we_commonly_accept_as_true_in/', 'https://www.reddit.com/r/AskReddit/comments/w2orm0/what_comedian_has_never_ever_made_you_laugh/', 'https://www.reddit.com/r/AskReddit/comments/w2pee7/whats_the_most_badass_villian_quote/', 'https://www.reddit.com/r/AskReddit/comments/w3jb7t/whats_something_you_could_say_at_a_family/', 'https://www.reddit.com/r/AskReddit/comments/w3huxu/what_time_do_you_go_to_bed/', 'https://www.reddit.com/r/AskReddit/comments/w2zrch/whats_your_the_world_is_ending_and_were_all_going/', 'https://www.reddit.com/r/AskReddit/comments/w34dgh/what_was_your_strangest_experience_that_made_you/', 'https://www.reddit.com/r/AskReddit/comments/w3ns7c/whats_a_song_that_sounds_fun_but_the_lyrics_are/', 'https://www.reddit.com/r/AskReddit/comments/w3tkos/people_who_talk_on_speakerphone_in_public_how/', 'https://www.reddit.com/r/AskReddit/comments/w3t4gk/how_do_you_deal_with_depression_when_nothing/', 'https://www.reddit.com/r/AskReddit/comments/w3hxt1/what_was_your_favorite_part_about_the_early_2000s/', 'https://www.reddit.com/r/AskReddit/comments/w38xks/what_childrens_movie_should_every_child_see_at/', 'https://www.reddit.com/r/AskReddit/comments/w3lhlo/what_are_the_signs_of_a_struggling_restaurant/', 'https://www.reddit.com/r/AskReddit/comments/w3sjx0/people_from_healthy_relationships_how_do_yall/', 'https://www.reddit.com/r/AskReddit/comments/w3t66y/in_what_movieseries_you_realized_you_supported/', 'https://www.reddit.com/r/AskReddit/comments/w3k9v4/how_would_you_describe_your_personality/']\n"
     ]
    }
   ],
   "source": [
    "links = []\n",
    "for submission in reddit.subreddit(\"AskReddit\").hot(limit=25):\n",
    "    links.append(submission.url)\n",
    "\n",
    "print(links)"
   ]
  },
  {
   "cell_type": "code",
   "execution_count": 49,
   "id": "99ef51dc",
   "metadata": {},
   "outputs": [
    {
     "name": "stdout",
     "output_type": "stream",
     "text": [
      "People who talk on speakerphone in public, how dare you and who do you think you are?\n"
     ]
    }
   ],
   "source": [
    "submission_url = random.choice(links)\n",
    "submission_id = submission_url.replace('https://www.reddit.com/r/AskReddit/comments/', \"\")\n",
    "submission_id = submission_id[:6]\n",
    "submission = reddit.submission(submission_id)\n",
    "\n",
    "print(submission.title)"
   ]
  },
  {
   "cell_type": "code",
   "execution_count": 52,
   "id": "d90b8514",
   "metadata": {},
   "outputs": [
    {
     "name": "stdout",
     "output_type": "stream",
     "text": [
      "I will say that I've done this but I walk away from a crowd before hand. Reason being my old phone only works for calls if it was on speaker 🤣\n",
      "https://reddit.com/r/AskReddit/comments/w3tkos/people_who_talk_on_speakerphone_in_public_how/igy8w7n/?utm_source=share&utm_medium=web2x&context=3\n"
     ]
    }
   ],
   "source": [
    "comments = []\n",
    "reddit_comments = []\n",
    "for comment in submission.comments:\n",
    "    if isinstance(comment, MoreComments):\n",
    "        continue\n",
    "     \n",
    "    html = markdown(comment.body)\n",
    "    text = ''.join(BeautifulSoup(html).findAll(text=True))\n",
    "    \n",
    "    if len(text) < 200:\n",
    "        comments.append(text)\n",
    "        reddit_comments.append(comment)\n",
    "\n",
    "random_number = random.randint(0, len(comments))\n",
    "\n",
    "comment = comments[random_number]\n",
    "comment_permalink = reddit_comments[random_number].permalink\n",
    "comment_url = 'https://reddit.com' + comment_permalink + '?utm_source=share&utm_medium=web2x&context=3'\n",
    "print(comment)\n",
    "print(comment_url)"
   ]
  },
  {
   "cell_type": "code",
   "execution_count": 53,
   "id": "08796a36",
   "metadata": {},
   "outputs": [
    {
     "name": "stdout",
     "output_type": "stream",
     "text": [
      "Comment text written to file \"body_audio.mp3\"\n",
      "Title text written to file \"title_audio.mp3\"\n"
     ]
    }
   ],
   "source": [
    "os.environ[\"GOOGLE_APPLICATION_CREDENTIALS\"]=\"C:\\\\Users\\\\helen\\\\Documents\\\\GitHub\\\\Youtube-Reddit-Video\\\\youtube-project-356203-9d9c9919829a.json\"\n",
    "client = texttospeech.TextToSpeechClient()\n",
    "synthesis_input = texttospeech.SynthesisInput(text=comment)\n",
    "voice = texttospeech.VoiceSelectionParams(\n",
    "    language_code=\"en-US\",\n",
    "    name=\"en-US-Wavenet-D\",\n",
    "    ssml_gender=texttospeech.SsmlVoiceGender.MALE\n",
    ")\n",
    "audio_config = texttospeech.AudioConfig(\n",
    "    audio_encoding=texttospeech.AudioEncoding.MP3\n",
    ")\n",
    "response = client.synthesize_speech(\n",
    "    input=synthesis_input, voice=voice, audio_config=audio_config\n",
    ")\n",
    "with open(\"body_audio.mp3\", \"wb\") as out:\n",
    "    out.write(response.audio_content)\n",
    "    print('Comment text written to file \"body_audio.mp3\"')\n",
    "    \n",
    "synthesis_input = texttospeech.SynthesisInput(text=submission.title)\n",
    "response = client.synthesize_speech(\n",
    "    input=synthesis_input, voice=voice, audio_config=audio_config\n",
    ")\n",
    "with open(\"title_audio.mp3\", \"wb\") as out:\n",
    "    out.write(response.audio_content)\n",
    "    print('Title text written to file \"title_audio.mp3\"')"
   ]
  },
  {
   "cell_type": "code",
   "execution_count": 65,
   "id": "0ad8c740",
   "metadata": {},
   "outputs": [],
   "source": [
    "option = Options()\n",
    "option.add_argument('--disable-notifications')\n",
    "driver = webdriver.Chrome(executable_path= \"C:\\\\Users\\\\helen\\\\Documents\\\\GitHub\\\\Youtube-Reddit-Video\\\\chromedriver.exe\", chrome_options= option)\n",
    "\n",
    "driver.get(comment_url)\n",
    "title_element = driver.find_element(By.CLASS_NAME, \"_3MC4c3Q_Y41YKtl1TcvyMt\")\n",
    "title_element.screenshot(\"title_screenshot.png\")\n",
    "time.sleep(1)\n",
    "body_element = driver.find_element(By.CLASS_NAME, \"_3sf33-9rVAO_v4y0pIW_CH\")\n",
    "body_element.screenshot(\"body_screenshot.png\")\n",
    "driver.quit()"
   ]
  },
  {
   "cell_type": "code",
   "execution_count": 66,
   "id": "296011c3",
   "metadata": {},
   "outputs": [
    {
     "name": "stdout",
     "output_type": "stream",
     "text": [
      "Title.mp3 Length: 6\n",
      "Body.mp3 Length: 10\n"
     ]
    }
   ],
   "source": [
    "title_audio = MP3(\"title_audio.mp3\")\n",
    "title_length = title_audio.info.length\n",
    "if round(title_length + 1) > title_length + 1:\n",
    "    title_length = round(title_length)\n",
    "else:\n",
    "    title_length = round(title_length + 1)\n",
    "    \n",
    "body_audio = MP3(\"body_audio.mp3\")\n",
    "body_length = body_audio.info.length\n",
    "if round(body_length + 1) > body_length + 1:\n",
    "    body_length = round(body_length)\n",
    "else:\n",
    "    body_length = round(body_length + 1)\n",
    "    \n",
    "print(\"Title.mp3 Length: \" + str(title_length))\n",
    "print(\"Body.mp3 Length: \" + str(body_length))"
   ]
  },
  {
   "cell_type": "code",
   "execution_count": 71,
   "id": "d48e28cf",
   "metadata": {},
   "outputs": [
    {
     "name": "stdout",
     "output_type": "stream",
     "text": [
      "Moviepy - Building video video.mp4.\n",
      "MoviePy - Writing audio in videoTEMP_MPY_wvf_snd.mp3\n"
     ]
    },
    {
     "name": "stderr",
     "output_type": "stream",
     "text": [
      "                                                                                                                       \r"
     ]
    },
    {
     "name": "stdout",
     "output_type": "stream",
     "text": [
      "MoviePy - Done.\n",
      "Moviepy - Writing video video.mp4\n",
      "\n"
     ]
    },
    {
     "name": "stderr",
     "output_type": "stream",
     "text": [
      "                                                                                                                       \r"
     ]
    },
    {
     "name": "stdout",
     "output_type": "stream",
     "text": [
      "Moviepy - Done !\n",
      "Moviepy - video ready video.mp4\n"
     ]
    }
   ],
   "source": [
    "random_point = random.randint(0, 2220)\n",
    "\n",
    "video = VideoFileClip(\"background.mp4\").subclip(random_point, random_point + title_length + body_length)\n",
    "\n",
    "title_image = ImageClip(\"title_screenshot.png\")\n",
    "title_audio = AudioFileClip(\"title_audio.mp3\")\n",
    "title_image = title_image.set_duration(title_length)\n",
    "title_image = title_image.set_audio(title_audio)\n",
    "\n",
    "body_image = ImageClip(\"body_screenshot.png\")\n",
    "body_audio = AudioFileClip(\"body_audio.mp3\")\n",
    "body_image = body_image.set_duration(body_length)\n",
    "body_image = body_image.set_audio(body_audio)\n",
    "\n",
    "images = concatenate_videoclips([title_image, body_image], method=\"compose\")\n",
    "\n",
    "final = CompositeVideoClip([video, images.set_position(\"center\")])\n",
    "final.write_videofile(\"video.mp4\")"
   ]
  },
  {
   "cell_type": "code",
   "execution_count": null,
   "id": "c3140bce",
   "metadata": {},
   "outputs": [],
   "source": []
  }
 ],
 "metadata": {
  "kernelspec": {
   "display_name": "Python 3 (ipykernel)",
   "language": "python",
   "name": "python3"
  },
  "language_info": {
   "codemirror_mode": {
    "name": "ipython",
    "version": 3
   },
   "file_extension": ".py",
   "mimetype": "text/x-python",
   "name": "python",
   "nbconvert_exporter": "python",
   "pygments_lexer": "ipython3",
   "version": "3.9.7"
  }
 },
 "nbformat": 4,
 "nbformat_minor": 5
}
